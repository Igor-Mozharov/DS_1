{
 "cells": [
  {
   "cell_type": "code",
   "execution_count": 5,
   "id": "0d0d7e18",
   "metadata": {},
   "outputs": [],
   "source": [
    "import numpy as np\n"
   ]
  },
  {
   "cell_type": "code",
   "execution_count": null,
   "id": "ce57b75b",
   "metadata": {},
   "outputs": [],
   "source": [
    "# 1. Створіть одновимірний масив (вектор) з першими 10-ма натуральними числами та виведіть його значення."
   ]
  },
  {
   "cell_type": "code",
   "execution_count": 7,
   "id": "5e25edc2",
   "metadata": {},
   "outputs": [
    {
     "name": "stdout",
     "output_type": "stream",
     "text": [
      "[1 2 3 4 5 6 7 8 9 0]\n"
     ]
    }
   ],
   "source": [
    "res = np.array([1, 2, 3, 4, 5, 6, 7, 8, 9, 0])\n",
    "print(res)"
   ]
  },
  {
   "cell_type": "code",
   "execution_count": null,
   "id": "ae2649dc",
   "metadata": {},
   "outputs": [],
   "source": [
    "# 2. Створіть двовимірний масив (матрицю) розміром 3x3, заповніть його нулями та виведіть його значення."
   ]
  },
  {
   "cell_type": "code",
   "execution_count": 8,
   "id": "463c4e45",
   "metadata": {},
   "outputs": [
    {
     "name": "stdout",
     "output_type": "stream",
     "text": [
      "[[0. 0. 0.]\n",
      " [0. 0. 0.]\n",
      " [0. 0. 0.]]\n"
     ]
    }
   ],
   "source": [
    "res = np.zeros((3, 3))\n",
    "print(res)"
   ]
  },
  {
   "cell_type": "code",
   "execution_count": null,
   "id": "87ee986d",
   "metadata": {},
   "outputs": [],
   "source": [
    "# 3. Створіть масив розміром 5x5, заповніть його випадковими цілими числами в діапазоні від 1 до 10 та виведіть \n",
    "# його значення."
   ]
  },
  {
   "cell_type": "code",
   "execution_count": 9,
   "id": "e7417e82",
   "metadata": {},
   "outputs": [
    {
     "name": "stdout",
     "output_type": "stream",
     "text": [
      "[[2 9 1 3 8]\n",
      " [9 6 7 9 1]\n",
      " [4 1 7 8 3]\n",
      " [6 4 7 6 1]\n",
      " [4 8 8 9 6]]\n"
     ]
    }
   ],
   "source": [
    "res = np.random.randint(1, 10, (5, 5))\n",
    "print(res)"
   ]
  },
  {
   "cell_type": "code",
   "execution_count": null,
   "id": "b426efb0",
   "metadata": {},
   "outputs": [],
   "source": [
    "# 4. Створіть масив розміром 4x4, заповніть його випадковими дійсними числами в діапазоні від 0 до 1 та виведіть \n",
    "#його значення."
   ]
  },
  {
   "cell_type": "code",
   "execution_count": 10,
   "id": "391dc707",
   "metadata": {},
   "outputs": [
    {
     "name": "stdout",
     "output_type": "stream",
     "text": [
      "[[0.06733511 0.15592558 0.21783117 0.57706466]\n",
      " [0.18335501 0.6866233  0.62939798 0.05171945]\n",
      " [0.52766141 0.26089556 0.59354635 0.42252157]\n",
      " [0.91754189 0.84285076 0.73110509 0.82794135]]\n"
     ]
    }
   ],
   "source": [
    "res = np.random.random((4, 4))\n",
    "print(res)"
   ]
  },
  {
   "cell_type": "code",
   "execution_count": null,
   "id": "c37d9661",
   "metadata": {},
   "outputs": [],
   "source": [
    "# 5. Створіть два одновимірних масиви розміром 5, заповніть їх випадковими цілими числами в діапазоні \n",
    "# від 1 до 10 та виконайте на них поелементні операції додавання, віднімання та множення."
   ]
  },
  {
   "cell_type": "code",
   "execution_count": 18,
   "id": "1b104a53",
   "metadata": {},
   "outputs": [
    {
     "name": "stdout",
     "output_type": "stream",
     "text": [
      "a = [1 9 4 7 3]\n",
      "b = [2 3 8 8 5]\n",
      "\n",
      " a + b = [ 3 12 12 15  8]\n",
      " a - b = [-1  6 -4 -1 -2]\n",
      " a * b = [ 2 27 32 56 15] \n"
     ]
    }
   ],
   "source": [
    "a = np.random.randint(1, 10, 5)\n",
    "b = np.random.randint(1, 10, 5)\n",
    "print(f'a = {a}\\nb = {b}\\n')\n",
    "print(f' a + b = {a + b}')\n",
    "print(f' a - b = {a - b}')\n",
    "print(f' a * b = {a * b} ')"
   ]
  },
  {
   "cell_type": "code",
   "execution_count": null,
   "id": "1fd3ae9c",
   "metadata": {},
   "outputs": [],
   "source": [
    "# 6.Створіть два вектори розміром 7, заповніть довільними числами та знайдіть їх скалярний добуток."
   ]
  },
  {
   "cell_type": "code",
   "execution_count": 19,
   "id": "a74bd570",
   "metadata": {},
   "outputs": [
    {
     "name": "stdout",
     "output_type": "stream",
     "text": [
      "124\n"
     ]
    }
   ],
   "source": [
    "a = np.array([1, 4, 8, 9])\n",
    "b = np.array([2, 5, 6, 6])\n",
    "print(np.dot(a, b))"
   ]
  },
  {
   "cell_type": "code",
   "execution_count": null,
   "id": "ff513bbd",
   "metadata": {},
   "outputs": [],
   "source": [
    "# 7. Створіть дві матриці розміром 2x2 та 2x3, заповніть їх випадковими цілими числами в діапазоні від 1 до 10 та \n",
    "# перемножте їх між собою."
   ]
  },
  {
   "cell_type": "code",
   "execution_count": 20,
   "id": "a97b323b",
   "metadata": {},
   "outputs": [
    {
     "name": "stdout",
     "output_type": "stream",
     "text": [
      "[[96 96 86]\n",
      " [92 82 87]]\n"
     ]
    }
   ],
   "source": [
    "a = np.random.randint(1, 10, (2, 2))\n",
    "b = np.random.randint(1, 10, (2, 3))\n",
    "print(np.dot(a, b))"
   ]
  },
  {
   "cell_type": "code",
   "execution_count": null,
   "id": "2b62c34c",
   "metadata": {},
   "outputs": [],
   "source": [
    "# 8.Створіть матрицю розміром 3x3, заповніть її випадковими цілими числами в діапазоні від 1 до 10 та \n",
    "# знайдіть її обернену матрицю."
   ]
  },
  {
   "cell_type": "code",
   "execution_count": 22,
   "id": "b96af3cd",
   "metadata": {},
   "outputs": [
    {
     "name": "stdout",
     "output_type": "stream",
     "text": [
      "[[ 0.13352273 -0.16761364  0.07102273]\n",
      " [ 0.08238636  0.08806818 -0.10511364]\n",
      " [-0.12784091  0.13920455  0.05965909]]\n"
     ]
    }
   ],
   "source": [
    "a = np.random.randint(1, 10, (3, 3))\n",
    "print(np.linalg.inv(a))"
   ]
  },
  {
   "cell_type": "code",
   "execution_count": null,
   "id": "0c562d7d",
   "metadata": {},
   "outputs": [],
   "source": [
    "# 9. Створіть матрицю розміром 4x4, заповніть її випадковими дійсними числами в діапазоні від 0 до 1 та \n",
    "# транспонуйте її."
   ]
  },
  {
   "cell_type": "code",
   "execution_count": 28,
   "id": "9696738b",
   "metadata": {},
   "outputs": [
    {
     "name": "stdout",
     "output_type": "stream",
     "text": [
      " simple matrix is:\n",
      "\n",
      " [[0.36527978 0.17756363 0.13380411 0.36472347]\n",
      " [0.34548176 0.24977178 0.20951583 0.2615354 ]\n",
      " [0.05649664 0.69603147 0.7854515  0.311597  ]\n",
      " [0.90672528 0.82528402 0.97524652 0.83613882]]\n",
      "\n",
      " trans matrix is :\n",
      "\n",
      " [[0.36527978 0.34548176 0.05649664 0.90672528]\n",
      " [0.17756363 0.24977178 0.69603147 0.82528402]\n",
      " [0.13380411 0.20951583 0.7854515  0.97524652]\n",
      " [0.36472347 0.2615354  0.311597   0.83613882]]\n"
     ]
    }
   ],
   "source": [
    "a = np.random.random((4, 4))\n",
    "print(f' simple matrix is:\\n\\n {a}\\n')\n",
    "print( f' trans matrix is :\\n\\n {a.T}')"
   ]
  },
  {
   "cell_type": "code",
   "execution_count": null,
   "id": "12940826",
   "metadata": {},
   "outputs": [],
   "source": [
    "# 10. Створіть матрицю розміром 3x4 та вектор розміром 4, заповніть їх випадковими цілими числами в діапазоні\n",
    "# від 1 до 10 та перемножте матрицю на вектор."
   ]
  },
  {
   "cell_type": "code",
   "execution_count": 29,
   "id": "1ef2a423",
   "metadata": {},
   "outputs": [
    {
     "name": "stdout",
     "output_type": "stream",
     "text": [
      "[[21 40 20  6]\n",
      " [18  8  4 36]\n",
      " [24 48  4 36]]\n"
     ]
    }
   ],
   "source": [
    "matrix = np.random.randint(1, 10, (3, 4))\n",
    "vector = np.random.randint(1, 10, 4)\n",
    "print(matrix * vector)"
   ]
  },
  {
   "cell_type": "code",
   "execution_count": null,
   "id": "0baa5e18",
   "metadata": {},
   "outputs": [],
   "source": [
    "# 11. Створіть матрицю розміром 2x3 та вектор розміром 3, заповніть їх випадковими дійсними числами в діапазоні \n",
    "# від 0 до 1 та перемножте матрицю на вектор."
   ]
  },
  {
   "cell_type": "code",
   "execution_count": 30,
   "id": "fb460fac",
   "metadata": {},
   "outputs": [
    {
     "name": "stdout",
     "output_type": "stream",
     "text": [
      "[[0.06929286 0.09486405 0.75252421]\n",
      " [0.04011553 0.16989563 0.20121425]]\n"
     ]
    }
   ],
   "source": [
    "matrix = np.random.random((2, 3))\n",
    "vector = np.random.random(3)\n",
    "print( matrix * vector)"
   ]
  },
  {
   "cell_type": "code",
   "execution_count": null,
   "id": "4be29fd1",
   "metadata": {},
   "outputs": [],
   "source": [
    "# 12. Створіть дві матриці розміром 2x2, заповніть їх випадковими цілими числами в діапазоні від 1 до 10 та \n",
    "# виконайте їхнє поелементне множення."
   ]
  },
  {
   "cell_type": "code",
   "execution_count": 31,
   "id": "e450856e",
   "metadata": {},
   "outputs": [
    {
     "name": "stdout",
     "output_type": "stream",
     "text": [
      "[[36  8]\n",
      " [ 4 25]]\n"
     ]
    }
   ],
   "source": [
    "a = np.random.randint(1, 10, (2, 2))\n",
    "b = np.random.randint(1, 10, (2, 2))\n",
    "print(a * b)"
   ]
  },
  {
   "cell_type": "code",
   "execution_count": null,
   "id": "93981d8d",
   "metadata": {},
   "outputs": [],
   "source": [
    "# 13. Створіть дві матриці розміром 2x2, заповніть їх випадковими цілими числами в діапазоні від 1 до 10 \n",
    "# та знайдіть їх добуток."
   ]
  },
  {
   "cell_type": "code",
   "execution_count": 32,
   "id": "eda0db40",
   "metadata": {},
   "outputs": [
    {
     "name": "stdout",
     "output_type": "stream",
     "text": [
      "[[25 21]\n",
      " [58 47]]\n"
     ]
    }
   ],
   "source": [
    "a = np.random.randint(1, 10, (2, 2))\n",
    "b = np.random.randint(1, 10, (2, 2))\n",
    "print(np.dot(a, b))"
   ]
  },
  {
   "cell_type": "code",
   "execution_count": null,
   "id": "47d7e5a2",
   "metadata": {},
   "outputs": [],
   "source": [
    "# 14. Створіть матрицю розміром 5x5, заповніть її випадковими цілими числами в діапазоні від 1 до 100 та \n",
    "# знайдіть суму елементів матриці."
   ]
  },
  {
   "cell_type": "code",
   "execution_count": 33,
   "id": "018ef265",
   "metadata": {},
   "outputs": [
    {
     "name": "stdout",
     "output_type": "stream",
     "text": [
      "116\n"
     ]
    }
   ],
   "source": [
    "a = np.random.randint(1, 10, (5, 5))\n",
    "print(np.sum(a))"
   ]
  },
  {
   "cell_type": "code",
   "execution_count": null,
   "id": "96422cfb",
   "metadata": {},
   "outputs": [],
   "source": [
    "# 15. Створіть дві матриці розміром 4x4, заповніть їх випадковими цілими числами в діапазоні від 1 до 10 та \n",
    "# знайдіть їхню різницю."
   ]
  },
  {
   "cell_type": "code",
   "execution_count": 34,
   "id": "260c09ea",
   "metadata": {},
   "outputs": [
    {
     "name": "stdout",
     "output_type": "stream",
     "text": [
      "[[-3  2 -2 -3]\n",
      " [ 0  0  0  1]\n",
      " [ 3 -1 -5  2]\n",
      " [-2  1 -1  4]]\n"
     ]
    }
   ],
   "source": [
    "a = np.random.randint(1, 10, (4, 4))\n",
    "b = np.random.randint(1, 10, (4, 4))\n",
    "print(a - b)"
   ]
  },
  {
   "cell_type": "code",
   "execution_count": null,
   "id": "e98aed24",
   "metadata": {},
   "outputs": [],
   "source": [
    "# 16. Створіть матрицю розміром 3x3, заповніть її випадковими дійсними числами в діапазоні від 0 до 1 та \n",
    "# знайдіть вектор-стовпчик, що містить суму елементів кожного рядка матриці."
   ]
  },
  {
   "cell_type": "code",
   "execution_count": 38,
   "id": "5eec7c8c",
   "metadata": {},
   "outputs": [
    {
     "name": "stdout",
     "output_type": "stream",
     "text": [
      "[1.18595169 1.78742942 1.44711698]\n"
     ]
    }
   ],
   "source": [
    "mat = np.random.random((3, 3))\n",
    "print(sum(mat.T))"
   ]
  },
  {
   "cell_type": "code",
   "execution_count": null,
   "id": "3965b894",
   "metadata": {},
   "outputs": [],
   "source": [
    "# 17. Створіть матрицю розміром 3x4 з довільними цілими числами і створінь матрицю з квадратами цих чисел. "
   ]
  },
  {
   "cell_type": "code",
   "execution_count": 35,
   "id": "3921bf13",
   "metadata": {},
   "outputs": [
    {
     "name": "stdout",
     "output_type": "stream",
     "text": [
      "[[ 9 16  4  1]\n",
      " [ 1  4  9 25]\n",
      " [ 1  1  4  4]]\n"
     ]
    }
   ],
   "source": [
    "matrix = np.array([[3, 4, 2, 1], [1, 2, 3, 5], [1, 1, 2, 2]])\n",
    "print( matrix ** 2)"
   ]
  },
  {
   "cell_type": "code",
   "execution_count": null,
   "id": "03a8ce5a",
   "metadata": {},
   "outputs": [],
   "source": [
    "# 18. Створіть вектор розміром 4, заповніть його випадковими цілими числами в діапазоні від 1 до 50 та \n",
    "#знайдіть вектор з квадратними коренями цих чисел."
   ]
  },
  {
   "cell_type": "code",
   "execution_count": 36,
   "id": "c80015da",
   "metadata": {},
   "outputs": [
    {
     "name": "stdout",
     "output_type": "stream",
     "text": [
      "[1.73205081 6.32455532 6.63324958 4.35889894]\n"
     ]
    }
   ],
   "source": [
    "vector = np.random.randint(1, 50, 4)\n",
    "print(vector ** 0.5)"
   ]
  }
 ],
 "metadata": {
  "kernelspec": {
   "display_name": "Python 3 (ipykernel)",
   "language": "python",
   "name": "python3"
  },
  "language_info": {
   "codemirror_mode": {
    "name": "ipython",
    "version": 3
   },
   "file_extension": ".py",
   "mimetype": "text/x-python",
   "name": "python",
   "nbconvert_exporter": "python",
   "pygments_lexer": "ipython3",
   "version": "3.10.6"
  }
 },
 "nbformat": 4,
 "nbformat_minor": 5
}
